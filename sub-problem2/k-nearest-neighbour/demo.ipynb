{
 "cells": [
  {
   "cell_type": "markdown",
   "metadata": {
    "id": "cSlReuRKeF7z"
   },
   "source": [
    "## **Sub-problem 1 with Knn and C++**"
   ]
  },
  {
   "cell_type": "markdown",
   "metadata": {
    "id": "ZF-2FsMWaZ-m"
   },
   "source": [
    "**Etape 1:** On installe ANN qui sera indispensable pour compiler nos codes C++"
   ]
  },
  {
   "cell_type": "code",
   "execution_count": null,
   "metadata": {
    "id": "860erwyetAoV"
   },
   "outputs": [],
   "source": [
    "import os\n",
    "os.chdir('/content/data-anonymization/sub-problem1/k-nearest-neighbour/code-C++')\n",
    "!unzip ann_1.1.2.zip\n",
    "os.chdir('/content/data-anonymization/sub-problem1/k-nearest-neighbour/code-C++/ann_1.1.2')\n",
    "!make linux-g++\n",
    "!cp -r /content/data-anonymization/sub-problem1/k-nearest-neighbour/code-C++/ann_1.1.2/include /usr\n",
    "!cp -r /content/data-anonymization/sub-problem1/k-nearest-neighbour/code-C++/ann_1.1.2/bin /usr\n",
    "!cp -r /content/data-anonymization/sub-problem1/k-nearest-neighbour/code-C++/ann_1.1.2/lib /usr"
   ]
  },
  {
   "cell_type": "markdown",
   "metadata": {
    "id": "-tNIaPZjeXeh"
   },
   "source": [
    "**Etape 2:** On convertit les labelles des données d'entraînement en 0 ou 1. le label \"I-PER\" devient 1 et les autres deviennent 0."
   ]
  },
  {
   "cell_type": "code",
   "execution_count": 5,
   "metadata": {
    "id": "nI-VQ5Tqe9v_"
   },
   "outputs": [],
   "source": [
    "import pandas as  pd\n",
    "def transform(x):\n",
    "    if \"PER\" in x:\n",
    "        return 1\n",
    "    return 0\n",
    "df = pd .read_csv(\"/content/data-anonymization/data/CONLL2003/eng.testb.true_labels.csv\",header=None)\n",
    "df =df[0].apply(transform)\n",
    "testb_label = pd.DataFrame(df)\n",
    "df = pd .read_csv(\"/content/data-anonymization/data/CONLL2003/eng.testa.true_labels.csv\",header=None)\n",
    "df =df[0].apply(transform)\n",
    "testa_label = pd.DataFrame (df)\n",
    "df = pd .read_csv(\"/content/data-anonymization/data/CONLL2003/eng.train.true_labels.csv\",header=None)\n",
    "df =df[0].apply(transform)\n",
    "train_label = pd.DataFrame (df)"
   ]
  },
  {
   "cell_type": "markdown",
   "metadata": {
    "id": "OsMKVJWDeYDj"
   },
   "source": [
    "**Etape 3:** On fusionne les labelles et les répresentations dans un meme fichier pour pouvoir le passer en argument de notre programme C++"
   ]
  },
  {
   "cell_type": "code",
   "execution_count": 6,
   "metadata": {
    "id": "cxA4rCPGOybK"
   },
   "outputs": [],
   "source": [
    "train_repr=pd.read_csv('/content/data-anonymization/data/CONLL2003/eng.train.representation.csv',header=None)\n",
    "test_a_rep=pd.read_csv('/content/data-anonymization/data/CONLL2003/eng.testa.representation.csv',header=None)\n",
    "test_b_rep=pd.read_csv('/content/data-anonymization/data/CONLL2003/eng.testb.representation.csv',header=None)"
   ]
  },
  {
   "cell_type": "code",
   "execution_count": 7,
   "metadata": {
    "id": "RVGEkjo3U49f"
   },
   "outputs": [],
   "source": [
    "train = pd.concat([train_label,train_repr],axis=1)\n",
    "testa = pd.concat([testa_label,test_a_rep],axis=1)\n",
    "testb = pd.concat([testb_label,test_b_rep],axis =1)"
   ]
  },
  {
   "cell_type": "code",
   "execution_count": 8,
   "metadata": {
    "id": "9GunsT5QWtem"
   },
   "outputs": [],
   "source": [
    "train.to_csv('/content/data-anonymization/data/CONLL2003/eng.train.csv',index=False,header=None)\n",
    "testa.to_csv('/content/data-anonymization/data/CONLL2003/eng.testa.csv',index=False,header=None)\n",
    "testb.to_csv('/content/data-anonymization/data/CONLL2003/eng.testb.csv',index=False,header=None)"
   ]
  },
  {
   "cell_type": "markdown",
   "metadata": {
    "id": "CGVWwshke_iT"
   },
   "source": [
    "**Etape 4:** On compile et on teste notre classifieur KNN pour $k=3$ "
   ]
  },
  {
   "cell_type": "code",
   "execution_count": 48,
   "metadata": {
    "colab": {
     "base_uri": "https://localhost:8080/"
    },
    "id": "K1IXBsdiViZO",
    "outputId": "44ccf9bb-a193-4b51-bdac-e58936f664f8"
   },
   "outputs": [
    {
     "name": "stdout",
     "output_type": "stream",
     "text": [
      "g++ -std=c++11 -O2 -I/usr/local/eigen-3.3.7 -I/usr/local/ann-1.1.2/include -Wall -Wextra knn_classifier.cpp ConfusionMatrix.o KnnClassification.o Classification.o Dataset.o -o knn_classifier -L/usr/local/ann-1.1.2/lib -lANN \n"
     ]
    }
   ],
   "source": [
    "os.chdir('/content/data-anonymization/sub-problem1/k-nearest-neighbour/code-C++')\n",
    "!make knn_classifier"
   ]
  },
  {
   "cell_type": "markdown",
   "metadata": {
    "id": "cfN3y1w-glG6"
   },
   "source": [
    "**testa**"
   ]
  },
  {
   "cell_type": "code",
   "execution_count": 14,
   "metadata": {
    "colab": {
     "base_uri": "https://localhost:8080/"
    },
    "id": "HmcWO_sCXU_O",
    "outputId": "d531c633-ad04-44c7-99f6-1eafdd7a859d"
   },
   "outputs": [
    {
     "name": "stdout",
     "output_type": "stream",
     "text": [
      "No column specified for classification, assuming first column of dataset (0).\n",
      "Dataset with 5000 samples, and 769 dimensions.\n",
      "Computing k-NN classification (k=3, classification over column 0)...\n",
      "Prediction and Confusion Matrix filling\n",
      "\n",
      "execution time: 26660ms\n",
      "\n",
      "\t\tPredicted\n",
      "\t\t0\t1\n",
      "Actual\t0\t4654\t21\n",
      "\t1\t67\t258\n",
      "\n",
      "Error rate\t\t0.0176\n",
      "False alarm rate\t0.00449198\n",
      "Detection rate\t\t0.793846\n",
      "F-score\t\t\t0.854305\n",
      "Precision\t\t0.924731\n"
     ]
    }
   ],
   "source": [
    "!./knn_classifier 3 /content/data-anonymization/dataCONLL2003/eng.train.csv /content/data-anonymization/data/CONLL2003/eng.testa.csv"
   ]
  },
  {
   "cell_type": "markdown",
   "metadata": {
    "id": "oLgdfdjngp7B"
   },
   "source": [
    "**testb**"
   ]
  },
  {
   "cell_type": "code",
   "execution_count": 15,
   "metadata": {
    "colab": {
     "base_uri": "https://localhost:8080/"
    },
    "id": "0FjwOrI9gWzu",
    "outputId": "7416feb0-d629-4444-bea4-04577e39e021"
   },
   "outputs": [
    {
     "name": "stdout",
     "output_type": "stream",
     "text": [
      "No column specified for classification, assuming first column of dataset (0).\n",
      "Dataset with 5000 samples, and 769 dimensions.\n",
      "Computing k-NN classification (k=3, classification over column 0)...\n",
      "Prediction and Confusion Matrix filling\n",
      "\n",
      "execution time: 25530ms\n",
      "\n",
      "\t\tPredicted\n",
      "\t\t0\t1\n",
      "Actual\t0\t4667\t27\n",
      "\t1\t65\t241\n",
      "\n",
      "Error rate\t\t0.0184\n",
      "False alarm rate\t0.00575202\n",
      "Detection rate\t\t0.787582\n",
      "F-score\t\t\t0.839721\n",
      "Precision\t\t0.899254\n"
     ]
    }
   ],
   "source": [
    "!./knn_classifier 3 /content/data-anonymization/data/CONLL2003/eng.train.csv /content/data-anonymization/data/CONLL2003/eng.testb.csv"
   ]
  },
  {
   "cell_type": "markdown",
   "metadata": {
    "id": "AffSag-gg-K6"
   },
   "source": [
    "**Etape 5:** On teste d'autres valeur de $k$ sur testb pour obtenir celui avec le meilleur F-score"
   ]
  },
  {
   "cell_type": "markdown",
   "metadata": {
    "id": "aUkD_HJEhPFG"
   },
   "source": [
    "**$k=4$**"
   ]
  },
  {
   "cell_type": "code",
   "execution_count": 16,
   "metadata": {
    "colab": {
     "base_uri": "https://localhost:8080/"
    },
    "id": "ZSocmsrcgu5c",
    "outputId": "243fa246-a883-4e60-e3f9-fdea50ae22fd"
   },
   "outputs": [
    {
     "name": "stdout",
     "output_type": "stream",
     "text": [
      "No column specified for classification, assuming first column of dataset (0).\n",
      "Dataset with 5000 samples, and 769 dimensions.\n",
      "Computing k-NN classification (k=4, classification over column 0)...\n",
      "Prediction and Confusion Matrix filling\n",
      "\n",
      "execution time: 27483ms\n",
      "\n",
      "\t\tPredicted\n",
      "\t\t0\t1\n",
      "Actual\t0\t4675\t19\n",
      "\t1\t116\t190\n",
      "\n",
      "Error rate\t\t0.027\n",
      "False alarm rate\t0.00404772\n",
      "Detection rate\t\t0.620915\n",
      "F-score\t\t\t0.737864\n",
      "Precision\t\t0.909091\n"
     ]
    }
   ],
   "source": [
    "!./knn_classifier 4 /content/data-anonymization/data/CONLL2003/eng.train.csv /content/data-anonymization/data/CONLL2003/eng.testb.csv"
   ]
  },
  {
   "cell_type": "markdown",
   "metadata": {
    "id": "lrogKZa_hiQq"
   },
   "source": [
    "On constate que le F-score est plus mauvais. Donc on ne va pas aller chercher les valeurs de $k$ plus grandes. Par contre on va regarder pour $k=2$"
   ]
  },
  {
   "cell_type": "markdown",
   "metadata": {
    "id": "DTqH9pg6hzPr"
   },
   "source": [
    "$k=2$"
   ]
  },
  {
   "cell_type": "code",
   "execution_count": 17,
   "metadata": {
    "colab": {
     "base_uri": "https://localhost:8080/"
    },
    "id": "3Rwx6vhjhXIn",
    "outputId": "04483dfd-7c09-47a3-adde-58e176104949"
   },
   "outputs": [
    {
     "name": "stdout",
     "output_type": "stream",
     "text": [
      "No column specified for classification, assuming first column of dataset (0).\n",
      "Dataset with 5000 samples, and 769 dimensions.\n",
      "Computing k-NN classification (k=2, classification over column 0)...\n",
      "Prediction and Confusion Matrix filling\n",
      "\n",
      "execution time: 25238ms\n",
      "\n",
      "\t\tPredicted\n",
      "\t\t0\t1\n",
      "Actual\t0\t4679\t15\n",
      "\t1\t108\t198\n",
      "\n",
      "Error rate\t\t0.0246\n",
      "False alarm rate\t0.00319557\n",
      "Detection rate\t\t0.647059\n",
      "F-score\t\t\t0.763006\n",
      "Precision\t\t0.929577\n"
     ]
    }
   ],
   "source": [
    "!./knn_classifier 2 /content/data-anonymization/data/CONLL2003/eng.train.csv /content/data-anonymization/data/CONLL2003/eng.testb.csv"
   ]
  },
  {
   "cell_type": "markdown",
   "metadata": {
    "id": "5VTKVu2FiBvE"
   },
   "source": [
    "On constate que le F-score pour $k=2$ est plus mauvais que  pour $k=3$. D'où le $k$ optimal est $k=3$"
   ]
  },
  {
   "cell_type": "markdown",
   "metadata": {
    "id": "z3KmeiS3pm2Q"
   },
   "source": [
    "**Etape 7:** On enreigistre la prediction dans un fichier de sortie"
   ]
  },
  {
   "cell_type": "code",
   "execution_count": null,
   "metadata": {
    "id": "RDC6XkU9h2Vn"
   },
   "outputs": [],
   "source": [
    "!./knn_classifier 3 /content/data-anonymization/data/CONLL2003/eng.train.csv /content/data-anonymization/data/CONLL2003/eng.testb.csv 0 /content/data-anonymization/data/CONLL2003/eng.testb-predicted.csv"
   ]
  }
 ],
 "metadata": {
  "colab": {
   "collapsed_sections": [],
   "name": "Easy-Knn.ipynb",
   "provenance": []
  },
  "kernelspec": {
   "display_name": "Python 3",
   "language": "python",
   "name": "python3"
  },
  "language_info": {
   "codemirror_mode": {
    "name": "ipython",
    "version": 3
   },
   "file_extension": ".py",
   "mimetype": "text/x-python",
   "name": "python",
   "nbconvert_exporter": "python",
   "pygments_lexer": "ipython3",
   "version": "3.8.8"
  }
 },
 "nbformat": 4,
 "nbformat_minor": 1
}
