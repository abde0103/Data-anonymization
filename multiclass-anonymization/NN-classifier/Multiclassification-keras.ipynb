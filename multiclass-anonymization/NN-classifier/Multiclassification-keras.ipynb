{
 "cells": [
  {
   "cell_type": "code",
   "execution_count": 153,
   "metadata": {},
   "outputs": [],
   "source": [
    "from sklearn.preprocessing import StandardScaler\n",
    "from sklearn.model_selection import train_test_split\n",
    "import tensorflow as tf\n",
    "from tensorflow import keras \n",
    "from tensorflow.keras import layers\n",
    "from tensorflow.keras.utils import plot_model\n",
    "import matplotlib.pyplot as plt \n",
    "import numpy as np \n",
    "%matplotlib inline\n",
    "import os.path as pt\n",
    "import pandas as pd \n",
    "import tensorflow.keras.backend as K\n",
    "from sklearn.metrics import fbeta_score"
   ]
  },
  {
   "cell_type": "code",
   "execution_count": 154,
   "metadata": {},
   "outputs": [],
   "source": [
    "train_labels = pd . read_csv (\"../../data/CONLL2003/multiclass-eng.train.true_labels.csv\",header=None)\n",
    "data_train = pd .read_csv ( \"../../data/CONLL2003/eng.train.representation.csv\",header=None)"
   ]
  },
  {
   "cell_type": "code",
   "execution_count": 155,
   "metadata": {},
   "outputs": [
    {
     "data": {
      "text/html": [
       "<div>\n",
       "<style scoped>\n",
       "    .dataframe tbody tr th:only-of-type {\n",
       "        vertical-align: middle;\n",
       "    }\n",
       "\n",
       "    .dataframe tbody tr th {\n",
       "        vertical-align: top;\n",
       "    }\n",
       "\n",
       "    .dataframe thead th {\n",
       "        text-align: right;\n",
       "    }\n",
       "</style>\n",
       "<table border=\"1\" class=\"dataframe\">\n",
       "  <thead>\n",
       "    <tr style=\"text-align: right;\">\n",
       "      <th></th>\n",
       "      <th>0</th>\n",
       "      <th>1</th>\n",
       "      <th>2</th>\n",
       "      <th>3</th>\n",
       "      <th>4</th>\n",
       "    </tr>\n",
       "  </thead>\n",
       "  <tbody>\n",
       "    <tr>\n",
       "      <td>0</td>\n",
       "      <td>1</td>\n",
       "      <td>0</td>\n",
       "      <td>0</td>\n",
       "      <td>0</td>\n",
       "      <td>0</td>\n",
       "    </tr>\n",
       "    <tr>\n",
       "      <td>1</td>\n",
       "      <td>1</td>\n",
       "      <td>0</td>\n",
       "      <td>0</td>\n",
       "      <td>0</td>\n",
       "      <td>0</td>\n",
       "    </tr>\n",
       "    <tr>\n",
       "      <td>2</td>\n",
       "      <td>0</td>\n",
       "      <td>1</td>\n",
       "      <td>0</td>\n",
       "      <td>0</td>\n",
       "      <td>0</td>\n",
       "    </tr>\n",
       "    <tr>\n",
       "      <td>3</td>\n",
       "      <td>1</td>\n",
       "      <td>0</td>\n",
       "      <td>0</td>\n",
       "      <td>0</td>\n",
       "      <td>0</td>\n",
       "    </tr>\n",
       "    <tr>\n",
       "      <td>4</td>\n",
       "      <td>1</td>\n",
       "      <td>0</td>\n",
       "      <td>0</td>\n",
       "      <td>0</td>\n",
       "      <td>0</td>\n",
       "    </tr>\n",
       "    <tr>\n",
       "      <td>5</td>\n",
       "      <td>1</td>\n",
       "      <td>0</td>\n",
       "      <td>0</td>\n",
       "      <td>0</td>\n",
       "      <td>0</td>\n",
       "    </tr>\n",
       "    <tr>\n",
       "      <td>6</td>\n",
       "      <td>1</td>\n",
       "      <td>0</td>\n",
       "      <td>0</td>\n",
       "      <td>0</td>\n",
       "      <td>0</td>\n",
       "    </tr>\n",
       "    <tr>\n",
       "      <td>7</td>\n",
       "      <td>1</td>\n",
       "      <td>0</td>\n",
       "      <td>0</td>\n",
       "      <td>0</td>\n",
       "      <td>0</td>\n",
       "    </tr>\n",
       "    <tr>\n",
       "      <td>8</td>\n",
       "      <td>1</td>\n",
       "      <td>0</td>\n",
       "      <td>0</td>\n",
       "      <td>0</td>\n",
       "      <td>0</td>\n",
       "    </tr>\n",
       "    <tr>\n",
       "      <td>9</td>\n",
       "      <td>1</td>\n",
       "      <td>0</td>\n",
       "      <td>0</td>\n",
       "      <td>0</td>\n",
       "      <td>0</td>\n",
       "    </tr>\n",
       "  </tbody>\n",
       "</table>\n",
       "</div>"
      ],
      "text/plain": [
       "   0  1  2  3  4\n",
       "0  1  0  0  0  0\n",
       "1  1  0  0  0  0\n",
       "2  0  1  0  0  0\n",
       "3  1  0  0  0  0\n",
       "4  1  0  0  0  0\n",
       "5  1  0  0  0  0\n",
       "6  1  0  0  0  0\n",
       "7  1  0  0  0  0\n",
       "8  1  0  0  0  0\n",
       "9  1  0  0  0  0"
      ]
     },
     "execution_count": 155,
     "metadata": {},
     "output_type": "execute_result"
    }
   ],
   "source": [
    "train_labels.head(10)"
   ]
  },
  {
   "cell_type": "code",
   "execution_count": 156,
   "metadata": {},
   "outputs": [
    {
     "data": {
      "text/html": [
       "<div>\n",
       "<style scoped>\n",
       "    .dataframe tbody tr th:only-of-type {\n",
       "        vertical-align: middle;\n",
       "    }\n",
       "\n",
       "    .dataframe tbody tr th {\n",
       "        vertical-align: top;\n",
       "    }\n",
       "\n",
       "    .dataframe thead th {\n",
       "        text-align: right;\n",
       "    }\n",
       "</style>\n",
       "<table border=\"1\" class=\"dataframe\">\n",
       "  <thead>\n",
       "    <tr style=\"text-align: right;\">\n",
       "      <th></th>\n",
       "      <th>0</th>\n",
       "      <th>1</th>\n",
       "      <th>2</th>\n",
       "      <th>3</th>\n",
       "      <th>4</th>\n",
       "      <th>5</th>\n",
       "      <th>6</th>\n",
       "      <th>7</th>\n",
       "      <th>8</th>\n",
       "      <th>9</th>\n",
       "      <th>...</th>\n",
       "      <th>758</th>\n",
       "      <th>759</th>\n",
       "      <th>760</th>\n",
       "      <th>761</th>\n",
       "      <th>762</th>\n",
       "      <th>763</th>\n",
       "      <th>764</th>\n",
       "      <th>765</th>\n",
       "      <th>766</th>\n",
       "      <th>767</th>\n",
       "    </tr>\n",
       "  </thead>\n",
       "  <tbody>\n",
       "    <tr>\n",
       "      <td>0</td>\n",
       "      <td>-0.451033</td>\n",
       "      <td>-0.488318</td>\n",
       "      <td>-0.255821</td>\n",
       "      <td>-0.137809</td>\n",
       "      <td>-0.048144</td>\n",
       "      <td>-0.043957</td>\n",
       "      <td>0.451039</td>\n",
       "      <td>0.102954</td>\n",
       "      <td>0.089547</td>\n",
       "      <td>0.076664</td>\n",
       "      <td>...</td>\n",
       "      <td>-0.218669</td>\n",
       "      <td>0.682409</td>\n",
       "      <td>-0.473345</td>\n",
       "      <td>-0.009874</td>\n",
       "      <td>-0.384008</td>\n",
       "      <td>0.140692</td>\n",
       "      <td>-0.012692</td>\n",
       "      <td>0.165181</td>\n",
       "      <td>0.058889</td>\n",
       "      <td>-0.390648</td>\n",
       "    </tr>\n",
       "    <tr>\n",
       "      <td>1</td>\n",
       "      <td>-0.239333</td>\n",
       "      <td>0.775531</td>\n",
       "      <td>-0.174063</td>\n",
       "      <td>0.158301</td>\n",
       "      <td>0.297638</td>\n",
       "      <td>-0.129337</td>\n",
       "      <td>-0.097236</td>\n",
       "      <td>0.108740</td>\n",
       "      <td>0.044130</td>\n",
       "      <td>0.123633</td>\n",
       "      <td>...</td>\n",
       "      <td>-0.284584</td>\n",
       "      <td>-0.256766</td>\n",
       "      <td>-0.431447</td>\n",
       "      <td>-0.649766</td>\n",
       "      <td>0.353310</td>\n",
       "      <td>-0.230163</td>\n",
       "      <td>0.944858</td>\n",
       "      <td>0.927042</td>\n",
       "      <td>-0.460076</td>\n",
       "      <td>0.182715</td>\n",
       "    </tr>\n",
       "    <tr>\n",
       "      <td>2</td>\n",
       "      <td>0.352255</td>\n",
       "      <td>-0.454496</td>\n",
       "      <td>-0.261688</td>\n",
       "      <td>0.499608</td>\n",
       "      <td>0.449225</td>\n",
       "      <td>0.034397</td>\n",
       "      <td>0.131889</td>\n",
       "      <td>0.089818</td>\n",
       "      <td>-0.471335</td>\n",
       "      <td>0.164576</td>\n",
       "      <td>...</td>\n",
       "      <td>-0.076328</td>\n",
       "      <td>-0.044453</td>\n",
       "      <td>-0.238135</td>\n",
       "      <td>-0.054626</td>\n",
       "      <td>-0.462026</td>\n",
       "      <td>-0.789696</td>\n",
       "      <td>-0.154895</td>\n",
       "      <td>1.240298</td>\n",
       "      <td>0.455828</td>\n",
       "      <td>0.015615</td>\n",
       "    </tr>\n",
       "    <tr>\n",
       "      <td>3</td>\n",
       "      <td>0.087985</td>\n",
       "      <td>-0.015801</td>\n",
       "      <td>0.396414</td>\n",
       "      <td>-0.428971</td>\n",
       "      <td>0.338345</td>\n",
       "      <td>0.275210</td>\n",
       "      <td>0.275715</td>\n",
       "      <td>0.667979</td>\n",
       "      <td>-0.576721</td>\n",
       "      <td>0.375074</td>\n",
       "      <td>...</td>\n",
       "      <td>0.185164</td>\n",
       "      <td>0.584429</td>\n",
       "      <td>0.045648</td>\n",
       "      <td>-0.084590</td>\n",
       "      <td>-0.800641</td>\n",
       "      <td>0.129176</td>\n",
       "      <td>-0.069257</td>\n",
       "      <td>0.174006</td>\n",
       "      <td>-0.166303</td>\n",
       "      <td>0.274083</td>\n",
       "    </tr>\n",
       "    <tr>\n",
       "      <td>4</td>\n",
       "      <td>-0.219841</td>\n",
       "      <td>-0.365603</td>\n",
       "      <td>-0.060525</td>\n",
       "      <td>-0.088899</td>\n",
       "      <td>0.053416</td>\n",
       "      <td>0.027642</td>\n",
       "      <td>-0.257103</td>\n",
       "      <td>0.180212</td>\n",
       "      <td>0.053477</td>\n",
       "      <td>-0.075219</td>\n",
       "      <td>...</td>\n",
       "      <td>-0.260747</td>\n",
       "      <td>0.155433</td>\n",
       "      <td>-0.227329</td>\n",
       "      <td>0.002219</td>\n",
       "      <td>0.180378</td>\n",
       "      <td>0.393444</td>\n",
       "      <td>0.015168</td>\n",
       "      <td>0.191013</td>\n",
       "      <td>-0.225727</td>\n",
       "      <td>0.188366</td>\n",
       "    </tr>\n",
       "  </tbody>\n",
       "</table>\n",
       "<p>5 rows × 768 columns</p>\n",
       "</div>"
      ],
      "text/plain": [
       "        0         1         2         3         4         5         6    \\\n",
       "0 -0.451033 -0.488318 -0.255821 -0.137809 -0.048144 -0.043957  0.451039   \n",
       "1 -0.239333  0.775531 -0.174063  0.158301  0.297638 -0.129337 -0.097236   \n",
       "2  0.352255 -0.454496 -0.261688  0.499608  0.449225  0.034397  0.131889   \n",
       "3  0.087985 -0.015801  0.396414 -0.428971  0.338345  0.275210  0.275715   \n",
       "4 -0.219841 -0.365603 -0.060525 -0.088899  0.053416  0.027642 -0.257103   \n",
       "\n",
       "        7         8         9    ...       758       759       760       761  \\\n",
       "0  0.102954  0.089547  0.076664  ... -0.218669  0.682409 -0.473345 -0.009874   \n",
       "1  0.108740  0.044130  0.123633  ... -0.284584 -0.256766 -0.431447 -0.649766   \n",
       "2  0.089818 -0.471335  0.164576  ... -0.076328 -0.044453 -0.238135 -0.054626   \n",
       "3  0.667979 -0.576721  0.375074  ...  0.185164  0.584429  0.045648 -0.084590   \n",
       "4  0.180212  0.053477 -0.075219  ... -0.260747  0.155433 -0.227329  0.002219   \n",
       "\n",
       "        762       763       764       765       766       767  \n",
       "0 -0.384008  0.140692 -0.012692  0.165181  0.058889 -0.390648  \n",
       "1  0.353310 -0.230163  0.944858  0.927042 -0.460076  0.182715  \n",
       "2 -0.462026 -0.789696 -0.154895  1.240298  0.455828  0.015615  \n",
       "3 -0.800641  0.129176 -0.069257  0.174006 -0.166303  0.274083  \n",
       "4  0.180378  0.393444  0.015168  0.191013 -0.225727  0.188366  \n",
       "\n",
       "[5 rows x 768 columns]"
      ]
     },
     "execution_count": 156,
     "metadata": {},
     "output_type": "execute_result"
    }
   ],
   "source": [
    "data_train.head()"
   ]
  },
  {
   "cell_type": "code",
   "execution_count": 157,
   "metadata": {},
   "outputs": [
    {
     "data": {
      "text/plain": [
       "(5000, 768)"
      ]
     },
     "execution_count": 157,
     "metadata": {},
     "output_type": "execute_result"
    }
   ],
   "source": [
    "data_train.shape"
   ]
  },
  {
   "cell_type": "code",
   "execution_count": null,
   "metadata": {},
   "outputs": [],
   "source": []
  },
  {
   "cell_type": "code",
   "execution_count": 158,
   "metadata": {},
   "outputs": [],
   "source": [
    "##Scale the data\n",
    "\n",
    "scaler=StandardScaler()\n",
    "data_train = scaler.fit_transform (data_train)"
   ]
  },
  {
   "cell_type": "code",
   "execution_count": 159,
   "metadata": {},
   "outputs": [],
   "source": [
    "## build model \n",
    "\n",
    "# input\n",
    "in_=keras.Input(shape=data_train.shape[1])\n",
    "\n",
    "##Couche cachée\n",
    "lay=layers.Dense(units=4)(in_)\n",
    "\n",
    "#couche cachée\n",
    "lay=layers.Dense(units=8)(lay)\n",
    "\n",
    "#couche de sortie\n",
    "sortie=layers.Dense(units=5,activation='softmax')(lay)\n",
    "\n",
    "model=keras.models.Model(in_,sortie)"
   ]
  },
  {
   "cell_type": "markdown",
   "metadata": {},
   "source": [
    "## The model plot"
   ]
  },
  {
   "cell_type": "code",
   "execution_count": 160,
   "metadata": {},
   "outputs": [
    {
     "data": {
      "image/png": "[encoded data removed]",
      "text/plain": [
       "<IPython.core.display.Image object>"
      ]
     },
     "execution_count": 160,
     "metadata": {},
     "output_type": "execute_result"
    }
   ],
   "source": [
    "plot_model(model)"
   ]
  },
  {
   "cell_type": "markdown",
   "metadata": {},
   "source": [
    "## Model summary"
   ]
  },
  {
   "cell_type": "code",
   "execution_count": 161,
   "metadata": {},
   "outputs": [
    {
     "name": "stdout",
     "output_type": "stream",
     "text": [
      "Model: \"model_24\"\n",
      "_________________________________________________________________\n",
      "Layer (type)                 Output Shape              Param #   \n",
      "=================================================================\n",
      "input_25 (InputLayer)        [(None, 768)]             0         \n",
      "_________________________________________________________________\n",
      "dense_73 (Dense)             (None, 4)                 3076      \n",
      "_________________________________________________________________\n",
      "dense_74 (Dense)             (None, 8)                 40        \n",
      "_________________________________________________________________\n",
      "dense_75 (Dense)             (None, 5)                 45        \n",
      "=================================================================\n",
      "Total params: 3,161\n",
      "Trainable params: 3,161\n",
      "Non-trainable params: 0\n",
      "_________________________________________________________________\n"
     ]
    }
   ],
   "source": [
    "model.summary()"
   ]
  },
  {
   "cell_type": "code",
   "execution_count": 162,
   "metadata": {},
   "outputs": [],
   "source": [
    "## compiler le modèle \n",
    "\n",
    "metrics=['categorical_accuracy',tf.keras.metrics.AUC(),tf.keras.metrics.Precision(),tf.keras.metrics.Recall()\n",
    "        ]\n",
    "model.compile(optimizer='adam',loss='categorical_crossentropy',metrics=metrics)"
   ]
  },
  {
   "cell_type": "code",
   "execution_count": 163,
   "metadata": {},
   "outputs": [
    {
     "name": "stdout",
     "output_type": "stream",
     "text": [
      "Train on 5000 samples\n",
      "Epoch 1/10\n",
      "5000/5000 - 1s - loss: 0.9098 - categorical_accuracy: 0.7280 - auc_24: 0.9039 - precision_24: 0.9352 - recall_24: 0.4822\n",
      "Epoch 2/10\n",
      "5000/5000 - 1s - loss: 0.2486 - categorical_accuracy: 0.9324 - auc_24: 0.9931 - precision_24: 0.9777 - recall_24: 0.8924\n",
      "Epoch 3/10\n",
      "5000/5000 - 1s - loss: 0.1530 - categorical_accuracy: 0.9520 - auc_24: 0.9967 - precision_24: 0.9759 - recall_24: 0.9320\n",
      "Epoch 4/10\n",
      "5000/5000 - 1s - loss: 0.1200 - categorical_accuracy: 0.9640 - auc_24: 0.9980 - precision_24: 0.9789 - recall_24: 0.9484\n",
      "Epoch 5/10\n",
      "5000/5000 - 1s - loss: 0.0956 - categorical_accuracy: 0.9696 - auc_24: 0.9987 - precision_24: 0.9814 - recall_24: 0.9602\n",
      "Epoch 6/10\n",
      "5000/5000 - 1s - loss: 0.0757 - categorical_accuracy: 0.9792 - auc_24: 0.9990 - precision_24: 0.9866 - recall_24: 0.9714\n",
      "Epoch 7/10\n",
      "5000/5000 - 1s - loss: 0.0653 - categorical_accuracy: 0.9828 - auc_24: 0.9989 - precision_24: 0.9885 - recall_24: 0.9776\n",
      "Epoch 8/10\n",
      "5000/5000 - 1s - loss: 0.0533 - categorical_accuracy: 0.9874 - auc_24: 0.9993 - precision_24: 0.9907 - recall_24: 0.9808\n",
      "Epoch 9/10\n",
      "5000/5000 - 1s - loss: 0.0529 - categorical_accuracy: 0.9854 - auc_24: 0.9990 - precision_24: 0.9899 - recall_24: 0.9828\n",
      "Epoch 10/10\n",
      "5000/5000 - 1s - loss: 0.0390 - categorical_accuracy: 0.9898 - auc_24: 0.9995 - precision_24: 0.9942 - recall_24: 0.9878\n"
     ]
    }
   ],
   "source": [
    "# entrainer le modèle\n",
    "\n",
    "history=model.fit(data_train,train_labels,epochs=10,batch_size=12,verbose=2)"
   ]
  },
  {
   "cell_type": "code",
   "execution_count": 106,
   "metadata": {},
   "outputs": [
    {
     "data": {
      "text/plain": [
       "Text(0.5, 0, 'epoch')"
      ]
     },
     "execution_count": 106,
     "metadata": {},
     "output_type": "execute_result"
    },
    {
     "data": {
      "image/png": "[encoded data removed]",
      "text/plain": [
       "<Figure size 432x288 with 1 Axes>"
      ]
     },
     "metadata": {
      "needs_background": "light"
     },
     "output_type": "display_data"
    }
   ],
   "source": [
    "plt.scatter(range (1,11),history.history['categorical_accuracy'],label=\"accuracy\",marker ='+')\n",
    "plt.scatter(range (1,11),history.history['loss'],label =\"loss\",marker ='.')\n",
    "plt.scatter(range (1,11),history.history['precision'],label =\"precision\",marker ='*')\n",
    "plt.title('model performance')\n",
    "plt.legend(loc=[0.8,0.5])\n",
    "plt.ylabel('accuracy')\n",
    "plt.xlabel('epoch')"
   ]
  },
  {
   "cell_type": "markdown",
   "metadata": {},
   "source": [
    "## Test evaluation "
   ]
  },
  {
   "cell_type": "code",
   "execution_count": 164,
   "metadata": {},
   "outputs": [],
   "source": [
    "def f_beta_score (precision , recall , beta):\n",
    "    return (1+beta**2) * precision* recall /(recall+(beta**2)*precision)"
   ]
  },
  {
   "cell_type": "code",
   "execution_count": 165,
   "metadata": {},
   "outputs": [],
   "source": [
    "def print_metrics (metrics):\n",
    "    precision = metrics [3]\n",
    "    recall = metrics[4]\n",
    "    accuracy=metrics[1]\n",
    "    area_under_ROC=metrics[2]\n",
    "    loss = metrics [0]\n",
    "    f_score= f_beta_score(precision,recall,beta=2)\n",
    "    f1_score=f_beta_score(precision,recall,beta=1)\n",
    "    f5_score=f_beta_score(precision,recall,beta=5)\n",
    "    \n",
    "    print ('precision is ',precision)\n",
    "    print ('recall is',recall)\n",
    "    print ('accuracy is',accuracy)\n",
    "    print ('loss is',loss)\n",
    "    print ('area under ROC is',area_under_ROC)\n",
    "    print ('f1_score is ', f1_score)\n",
    "    print ('f2_score is ', f_score)\n",
    "    print ('f5_score is ', f5_score)"
   ]
  },
  {
   "cell_type": "markdown",
   "metadata": {},
   "source": [
    "### TEST A "
   ]
  },
  {
   "cell_type": "code",
   "execution_count": 166,
   "metadata": {},
   "outputs": [],
   "source": [
    "test_labels = pd . read_csv (\"../../data/CONLL2003/multiclass-eng.testa.true_labels.csv\",header=None)\n",
    "data_test = pd .read_csv ( \"../../data/CONLL2003/eng.testa.representation.csv\",header=None)\n",
    "scaler1 = StandardScaler()\n",
    "data_test=scaler1.fit_transform (data_test)"
   ]
  },
  {
   "cell_type": "code",
   "execution_count": 167,
   "metadata": {},
   "outputs": [],
   "source": [
    "preds = model.predict (data_test)\n",
    "## we will say that the prediction is labeled one when its probability exceeds the threshold = 0.5\n",
    "preds= (preds>0.5)"
   ]
  },
  {
   "cell_type": "code",
   "execution_count": 168,
   "metadata": {},
   "outputs": [
    {
     "name": "stdout",
     "output_type": "stream",
     "text": [
      "5000/5000 [==============================] - 1s 139us/sample - loss: 0.2159 - categorical_accuracy: 0.9496 - auc_24: 0.9921 - precision_24: 0.9554 - recall_24: 0.9468\n",
      "precision is  0.95539856\n",
      "recall is 0.9468\n",
      "accuracy is 0.9496\n",
      "loss is 0.21587289798823187\n",
      "area under ROC is 0.99209785\n",
      "f1_score is  0.9510798423626492\n",
      "f2_score is  0.9485073024936029\n",
      "f5_score is  0.947127844661274\n"
     ]
    }
   ],
   "source": [
    "metrics = model.evaluate (data_test,test_labels )\n",
    "print_metrics(metrics)"
   ]
  },
  {
   "cell_type": "code",
   "execution_count": 169,
   "metadata": {},
   "outputs": [
    {
     "name": "stdout",
     "output_type": "stream",
     "text": [
      "the confusion matrix is \n",
      "  [[4121    9   11    5   11]\n",
      " [   6  287    1   23    8]\n",
      " [  25    2   68   10   10]\n",
      " [  20    4   10  159   13]\n",
      " [  31    9   19   25  113]]\n"
     ]
    }
   ],
   "source": [
    "## Confusion matrix \n",
    "from sklearn.metrics import confusion_matrix\n",
    "\n",
    "# print confusion matrix \n",
    "\n",
    "preds= np.argmax(preds,axis=1)\n",
    "y_for_confusion= np.argmax(np.array(test_labels),axis=1)\n",
    "cm = confusion_matrix(y_for_confusion,preds)\n",
    "print ('the confusion matrix is \\n ',cm)"
   ]
  },
  {
   "cell_type": "markdown",
   "metadata": {},
   "source": [
    "### TEST B"
   ]
  },
  {
   "cell_type": "code",
   "execution_count": 170,
   "metadata": {},
   "outputs": [],
   "source": [
    "test_labels_2 = pd . read_csv (\"../../data/CONLL2003/multiclass-eng.testb.true_labels.csv\",header=None)\n",
    "data_test_2 = pd .read_csv ( \"../../data/CONLL2003/eng.testb.representation.csv\",header=None)\n",
    "scaler2 = StandardScaler()\n",
    "data_test_2=scaler2.fit_transform (data_test_2)"
   ]
  },
  {
   "cell_type": "code",
   "execution_count": 171,
   "metadata": {},
   "outputs": [],
   "source": [
    "preds = model.predict (data_test_2)\n",
    "## we will say that the prediction is labeled one when its probability exceeds the threshold = 0.5\n",
    "preds= (preds>0.5)"
   ]
  },
  {
   "cell_type": "code",
   "execution_count": 172,
   "metadata": {},
   "outputs": [
    {
     "name": "stdout",
     "output_type": "stream",
     "text": [
      "5000/5000 [==============================] - 0s 63us/sample - loss: 0.2316 - categorical_accuracy: 0.9470 - auc_24: 0.9895 - precision_24: 0.9535 - recall_24: 0.9422\n",
      "precision is  0.95345074\n",
      "recall is 0.9422\n",
      "accuracy is 0.947\n",
      "loss is 0.2316112266952172\n",
      "area under ROC is 0.98953724\n",
      "f1_score is  0.9477919855250129\n",
      "f2_score is  0.9444288602560463\n",
      "f5_score is  0.94262781365557\n"
     ]
    }
   ],
   "source": [
    "metrics = model.evaluate (data_test_2,test_labels_2 )\n",
    "print_metrics(metrics)"
   ]
  },
  {
   "cell_type": "code",
   "execution_count": 173,
   "metadata": {},
   "outputs": [
    {
     "name": "stdout",
     "output_type": "stream",
     "text": [
      "the confusion matrix is \n",
      "  [[3467  259  102  167  162]\n",
      " [ 276   18    2   12   17]\n",
      " [  93   10    2    5    5]\n",
      " [ 169   18    6    5    8]\n",
      " [ 167   13    4    4    9]]\n"
     ]
    }
   ],
   "source": [
    "## Confusion matrix \n",
    "# print confusion matrix \n",
    "\n",
    "preds= np.argmax(preds,axis=1)\n",
    "y_for_confusion= np.argmax(np.array(test_labels),axis=1)\n",
    "cm = confusion_matrix(y_for_confusion,preds)\n",
    "print ('the confusion matrix is \\n ',cm)"
   ]
  },
  {
   "cell_type": "markdown",
   "metadata": {},
   "source": [
    "## Train the same classifier after balancing the two classes of the input data with adding weights to each class when training ( the same method in the biclassification file: Easy-keras )"
   ]
  },
  {
   "cell_type": "code",
   "execution_count": 174,
   "metadata": {},
   "outputs": [],
   "source": [
    "## build model \n",
    "\n",
    "# input\n",
    "in_=keras.Input(shape=data_train.shape[1])\n",
    "\n",
    "##Couche cachée\n",
    "lay=layers.Dense(units=6)(in_)\n",
    "\n",
    "\n",
    "#couche cachée\n",
    "lay=layers.Dense(units=12)(lay)\n",
    "\n",
    "#couche de sortie\n",
    "sortie=layers.Dense(units=5,activation='softmax')(lay)\n",
    "\n",
    "classifier=keras.models.Model(in_,sortie)"
   ]
  },
  {
   "cell_type": "code",
   "execution_count": 175,
   "metadata": {},
   "outputs": [],
   "source": [
    "metrics=['categorical_accuracy',tf.keras.metrics.AUC(),tf.keras.metrics.Precision(),tf.keras.metrics.Recall()\n",
    "        ]\n",
    "classifier.compile(optimizer='adam',loss='categorical_crossentropy',metrics=metrics)"
   ]
  },
  {
   "cell_type": "code",
   "execution_count": 176,
   "metadata": {
    "scrolled": true
   },
   "outputs": [
    {
     "name": "stderr",
     "output_type": "stream",
     "text": [
      "C:\\Users\\abder\\AppData\\Local\\Continuum\\anaconda3\\lib\\site-packages\\sklearn\\utils\\validation.py:72: FutureWarning: Pass classes=[0 1 2 3 4], y=[0 0 1 ... 0 1 0] as keyword args. From version 1.0 (renaming of 0.25) passing these as positional arguments will result in an error\n",
      "  \"will result in an error\", FutureWarning)\n"
     ]
    },
    {
     "name": "stdout",
     "output_type": "stream",
     "text": [
      "Train on 5000 samples\n",
      "Epoch 1/12\n",
      "5000/5000 - 1s - loss: 0.8679 - categorical_accuracy: 0.6854 - auc_25: 0.9069 - precision_25: 0.8288 - recall_25: 0.5394\n",
      "Epoch 2/12\n",
      "5000/5000 - 1s - loss: 0.1927 - categorical_accuracy: 0.9460 - auc_25: 0.9954 - precision_25: 0.9756 - recall_25: 0.9198\n",
      "Epoch 3/12\n",
      "5000/5000 - 1s - loss: 0.1177 - categorical_accuracy: 0.9630 - auc_25: 0.9982 - precision_25: 0.9791 - recall_25: 0.9534\n",
      "Epoch 4/12\n",
      "5000/5000 - 1s - loss: 0.0894 - categorical_accuracy: 0.9754 - auc_25: 0.9982 - precision_25: 0.9826 - recall_25: 0.9698\n",
      "Epoch 5/12\n",
      "5000/5000 - 1s - loss: 0.0699 - categorical_accuracy: 0.9790 - auc_25: 0.9990 - precision_25: 0.9844 - recall_25: 0.9748\n",
      "Epoch 6/12\n",
      "5000/5000 - 1s - loss: 0.0542 - categorical_accuracy: 0.9830 - auc_25: 0.9994 - precision_25: 0.9867 - recall_25: 0.9814\n",
      "Epoch 7/12\n",
      "5000/5000 - 1s - loss: 0.0429 - categorical_accuracy: 0.9878 - auc_25: 0.9997 - precision_25: 0.9899 - recall_25: 0.9848\n",
      "Epoch 8/12\n",
      "5000/5000 - 1s - loss: 0.0401 - categorical_accuracy: 0.9894 - auc_25: 0.9995 - precision_25: 0.9926 - recall_25: 0.9878\n",
      "Epoch 9/12\n",
      "5000/5000 - 1s - loss: 0.0248 - categorical_accuracy: 0.9938 - auc_25: 0.9999 - precision_25: 0.9954 - recall_25: 0.9932\n",
      "Epoch 10/12\n",
      "5000/5000 - 1s - loss: 0.0284 - categorical_accuracy: 0.9930 - auc_25: 0.9996 - precision_25: 0.9940 - recall_25: 0.9922\n",
      "Epoch 11/12\n",
      "5000/5000 - 1s - loss: 0.0211 - categorical_accuracy: 0.9956 - auc_25: 0.9998 - precision_25: 0.9962 - recall_25: 0.9946\n",
      "Epoch 12/12\n",
      "5000/5000 - 1s - loss: 0.0158 - categorical_accuracy: 0.9956 - auc_25: 1.0000 - precision_25: 0.9968 - recall_25: 0.9956\n"
     ]
    }
   ],
   "source": [
    "# Calculate weights \n",
    "from sklearn.utils import class_weight\n",
    "weight = class_weight.compute_class_weight('balanced', np.unique(np.argmax(np.array(train_labels),axis=1)),np.argmax(np.array(train_labels),axis=1))\n",
    "\n",
    "# fit the model\n",
    "history_classifier=classifier.fit(data_train,train_labels,epochs=12,batch_size=12,verbose=2)"
   ]
  },
  {
   "cell_type": "markdown",
   "metadata": {},
   "source": [
    "## Test A "
   ]
  },
  {
   "cell_type": "code",
   "execution_count": 177,
   "metadata": {},
   "outputs": [
    {
     "name": "stdout",
     "output_type": "stream",
     "text": [
      "5000/5000 [==============================] - 1s 150us/sample - loss: 0.2181 - categorical_accuracy: 0.9570 - auc_25: 0.9910 - precision_25: 0.9606 - recall_25: 0.9548\n",
      "precision is  0.96056336\n",
      "recall is 0.9548\n",
      "accuracy is 0.957\n",
      "loss is 0.21809670010013507\n",
      "area under ROC is 0.99100316\n",
      "f1_score is  0.9576730146877467\n",
      "f2_score is  0.9559471406729202\n",
      "f5_score is  0.9550203979697184\n"
     ]
    }
   ],
   "source": [
    "preds_a =  classifier.predict (data_test)\n",
    "## we will say that the prediction is labeled one when its probability exceeds the threshold = 0.5\n",
    "preds_a= (preds_a>0.5)\n",
    "metrics = classifier.evaluate (data_test,test_labels )\n",
    "print_metrics(metrics)"
   ]
  },
  {
   "cell_type": "code",
   "execution_count": 178,
   "metadata": {},
   "outputs": [
    {
     "name": "stdout",
     "output_type": "stream",
     "text": [
      "5000/5000 [==============================] - 0s 62us/sample - loss: 0.2450 - categorical_accuracy: 0.9500 - auc_25: 0.9894 - precision_25: 0.9524 - recall_25: 0.9476\n",
      "precision is  0.9523618\n",
      "recall is 0.9476\n",
      "accuracy is 0.95\n",
      "loss is 0.24504836603030564\n",
      "area under ROC is 0.9894135\n",
      "f1_score is  0.949974947398449\n",
      "f2_score is  0.948548556801311\n",
      "f5_score is  0.9477822731070875\n"
     ]
    }
   ],
   "source": [
    "preds_b =  classifier.predict (data_test)\n",
    "## we will say that the prediction is labeled one when its probability exceeds the threshold = 0.5\n",
    "preds_a= (preds_a>0.5)\n",
    "metrics = classifier.evaluate (data_test_2,test_labels_2 )\n",
    "print_metrics(metrics)"
   ]
  },
  {
   "cell_type": "markdown",
   "metadata": {},
   "source": [
    "# Conclusion"
   ]
  },
  {
   "cell_type": "markdown",
   "metadata": {},
   "source": [
    "######  The multiclassification has great results (F-score > 0.94) and It is better than biclassification.\n",
    "###### Explanation : with multiclassification, the input dataset is less imbalanced than in the case of biclassification because we have more minority classes"
   ]
  }
 ],
 "metadata": {
  "kernelspec": {
   "display_name": "Python 3",
   "language": "python",
   "name": "python3"
  },
  "language_info": {
   "codemirror_mode": {
    "name": "ipython",
    "version": 3
   },
   "file_extension": ".py",
   "mimetype": "text/x-python",
   "name": "python",
   "nbconvert_exporter": "python",
   "pygments_lexer": "ipython3",
   "version": "3.8.8"
  },
  "latex_envs": {
   "LaTeX_envs_menu_present": true,
   "autoclose": false,
   "autocomplete": false,
   "bibliofile": "biblio.bib",
   "cite_by": "apalike",
   "current_citInitial": 1,
   "eqLabelWithNumbers": true,
   "eqNumInitial": 1,
   "hotkeys": {
    "equation": "Ctrl-E",
    "itemize": "Ctrl-I"
   },
   "labels_anchors": false,
   "latex_user_defs": false,
   "report_style_numbering": false,
   "user_envs_cfg": false
  }
 },
 "nbformat": 4,
 "nbformat_minor": 2
}
