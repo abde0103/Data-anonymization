{
 "cells": [
  {
   "cell_type": "code",
   "execution_count": 32,
   "metadata": {
    "id": "_EMGVKvBSUKd"
   },
   "outputs": [],
   "source": [
    "from sklearn.preprocessing import StandardScaler\n",
    "from sklearn.model_selection import train_test_split\n",
    "import tensorflow as tf\n",
    "from tensorflow import keras \n",
    "from tensorflow.keras import layers\n",
    "from tensorflow.keras.utils import plot_model\n",
    "import matplotlib.pyplot as plt \n",
    "import numpy as np \n",
    "%matplotlib inline\n",
    "import os.path as pt\n",
    "import pandas as pd \n",
    "from tensorflow.python.keras.metrics import Metric\n",
    "import tensorflow.keras.backend as K\n",
    "from sklearn.metrics import fbeta_score\n",
    "from sklearn.metrics import make_scorer\n",
    "from sklearn.metrics import recall_score\n",
    "from sklearn.metrics import precision_score\n",
    "from sklearn.metrics import accuracy_score"
   ]
  },
  {
   "cell_type": "markdown",
   "metadata": {
    "id": "8OdnEmgeS8e_"
   },
   "source": [
    "##  Useful functions"
   ]
  },
  {
   "cell_type": "code",
   "execution_count": 55,
   "metadata": {
    "id": "r8blZ49OS9K1"
   },
   "outputs": [],
   "source": [
    "# will be used for biclassification\n",
    "def print_metrics (metrics,preds,test_labels):\n",
    "    precision = metrics [3]\n",
    "    recall = metrics[4]\n",
    "    accuracy=metrics[1]\n",
    "    area_under_ROC=metrics[2]\n",
    "    loss = metrics [0]\n",
    "    \n",
    "    # we will use F2 score which is more interseting because we want to give more importance to recall than precision\n",
    "    f_score= fbeta_score(test_labels,preds,beta=2)\n",
    "    f1_score=fbeta_score(test_labels,preds,beta=1)\n",
    "    f5_score=fbeta_score(test_labels,preds,beta=5)\n",
    "    \n",
    "    print ('precision is ',precision)\n",
    "    print ('recall is',recall)\n",
    "    print ('accuracy is',accuracy)\n",
    "    print ('loss is',loss)\n",
    "    print ('area under ROC is',area_under_ROC)\n",
    "    print ('f1_score is ', f1_score)\n",
    "    print ('f2_score is ', f_score)\n",
    "    print ('f5_score is ', f5_score)\n",
    "\n",
    "\n",
    "## will be used for multiclassification    \n",
    "def print_metrics_multi (metrics):\n",
    "    precision = metrics [3]\n",
    "    recall = metrics[4]\n",
    "    accuracy=metrics[1]\n",
    "    area_under_ROC=metrics[2]\n",
    "    loss = metrics [0]\n",
    "    \n",
    "    def f_beta_score (precision , recall , beta):\n",
    "        return (1+beta**2) * precision* recall /(recall+(beta**2)*precision)\n",
    "    f_score= f_beta_score(precision,recall,beta=2)\n",
    "    f1_score=f_beta_score(precision,recall,beta=1)\n",
    "    f5_score=f_beta_score(precision,recall,beta=5)\n",
    "    \n",
    "    \n",
    "    print ('precision is ',precision)\n",
    "    print ('recall is',recall)\n",
    "    print ('accuracy is',accuracy)\n",
    "    print ('loss is',loss)\n",
    "    print ('area under ROC is',area_under_ROC)\n",
    "    print ('f1_score is ', f1_score)\n",
    "    print ('f2_score is ', f_score)\n",
    "    print ('f5_score is ', f5_score)"
   ]
  },
  {
   "cell_type": "markdown",
   "metadata": {
    "id": "zTwscBbVTC7c"
   },
   "source": [
    "## Biclassifcation evaluation"
   ]
  },
  {
   "cell_type": "code",
   "execution_count": 41,
   "metadata": {
    "id": "x4wD8S38TDc4"
   },
   "outputs": [],
   "source": [
    "# load model\n",
    "biclassifier = keras.models.load_model(\"../models/biclassification.h5\")"
   ]
  },
  {
   "cell_type": "code",
   "execution_count": 42,
   "metadata": {
    "id": "QCbhLiEjTQv8"
   },
   "outputs": [],
   "source": [
    "test_labels = pd . read_csv (\"../data/BTC/bilass-eng.testa.true_labels.csv\",header=None)\n",
    "data_test = pd .read_csv ( \"../data/BTC/representation.train.csv\",header=None)\n",
    "scaler1 = StandardScaler()\n",
    "data_test=scaler1.fit_transform (data_test)"
   ]
  },
  {
   "cell_type": "code",
   "execution_count": 43,
   "metadata": {
    "colab": {
     "base_uri": "https://localhost:8080/"
    },
    "id": "7YKGE6L2U4_V",
    "outputId": "853e8cd6-b23c-403c-8e61-193db728032e"
   },
   "outputs": [
    {
     "data": {
      "text/plain": [
       "(10000, 1)"
      ]
     },
     "execution_count": 43,
     "metadata": {
      "tags": []
     },
     "output_type": "execute_result"
    }
   ],
   "source": [
    "test_labels.shape"
   ]
  },
  {
   "cell_type": "code",
   "execution_count": 44,
   "metadata": {
    "colab": {
     "base_uri": "https://localhost:8080/"
    },
    "id": "rYUJtvq_U21m",
    "outputId": "88fb833a-bc50-43e8-ea99-a8443643c60d"
   },
   "outputs": [
    {
     "data": {
      "text/plain": [
       "(10000, 768)"
      ]
     },
     "execution_count": 44,
     "metadata": {
      "tags": []
     },
     "output_type": "execute_result"
    }
   ],
   "source": [
    "data_test.shape"
   ]
  },
  {
   "cell_type": "code",
   "execution_count": 45,
   "metadata": {
    "id": "h5wxX0AyXunR"
   },
   "outputs": [],
   "source": [
    "preds = biclassifier.predict (data_test)\n",
    "## we will say that the prediction is labeled one when its probability exceeds the threshold = 0.5\n",
    "THRESHOLD= 0.5 \n",
    "preds= (preds>THRESHOLD)"
   ]
  },
  {
   "cell_type": "code",
   "execution_count": 46,
   "metadata": {
    "colab": {
     "base_uri": "https://localhost:8080/"
    },
    "id": "ZUTpKW4iYAWP",
    "outputId": "1d66d8a5-8d2f-4ac9-ef48-32d702390794"
   },
   "outputs": [
    {
     "name": "stdout",
     "output_type": "stream",
     "text": [
      "313/313 [==============================] - 1s 1ms/step - loss: 0.0369 - accuracy: 0.9933 - auc_2: 0.9851 - precision_1: 0.9515 - recall_1: 0.9408\n",
      "precision is  0.9514563083648682\n",
      "recall is 0.9408000111579895\n",
      "accuracy is 0.9933000206947327\n",
      "loss is 0.03691771999001503\n",
      "area under ROC is 0.9850701093673706\n",
      "f1_score is  0.9460981496379728\n",
      "f2_score is  0.942912123155869\n",
      "f5_score is  0.9412054423443946\n"
     ]
    }
   ],
   "source": [
    "metrics = biclassifier.evaluate (data_test,test_labels )\n",
    "print_metrics(metrics,preds,test_labels)"
   ]
  },
  {
   "cell_type": "code",
   "execution_count": 47,
   "metadata": {
    "id": "QNv5bowmYB_7"
   },
   "outputs": [],
   "source": [
    "## Confusion Matrix "
   ]
  },
  {
   "cell_type": "code",
   "execution_count": 48,
   "metadata": {
    "colab": {
     "base_uri": "https://localhost:8080/"
    },
    "id": "hGx8SwbNYHka",
    "outputId": "f45f8890-7a05-4ac4-97d6-2f7b1513ea55"
   },
   "outputs": [
    {
     "name": "stdout",
     "output_type": "stream",
     "text": [
      "the confusion matrix is \n",
      "  [[9345   30]\n",
      " [  37  588]]\n"
     ]
    }
   ],
   "source": [
    "from sklearn.metrics import confusion_matrix\n",
    "cm = confusion_matrix(test_labels,preds)\n",
    "print ('the confusion matrix is \\n ',cm)"
   ]
  },
  {
   "cell_type": "markdown",
   "metadata": {
    "id": "36I6c7u3YXFp"
   },
   "source": [
    "## Multiclassification "
   ]
  },
  {
   "cell_type": "code",
   "execution_count": 49,
   "metadata": {
    "id": "qUqlOcB9YY2n"
   },
   "outputs": [],
   "source": [
    "multiclassifier = keras.models.load_model(\"../models/multiclass.h5\")"
   ]
  },
  {
   "cell_type": "code",
   "execution_count": 50,
   "metadata": {
    "id": "jqAnGyZIYbJU"
   },
   "outputs": [],
   "source": [
    "test_labels = pd . read_csv (\"../data/BTC/multiclass-eng.train.true_labels.csv\",header=None)\n",
    "data_test = pd .read_csv ( \"../data/BTC/representation.train.csv\",header=None)\n",
    "scaler1 = StandardScaler()\n",
    "data_test=scaler1.fit_transform (data_test)"
   ]
  },
  {
   "cell_type": "code",
   "execution_count": 51,
   "metadata": {
    "colab": {
     "base_uri": "https://localhost:8080/"
    },
    "id": "yApv0519ZJNl",
    "outputId": "e0dd78de-58f9-4768-ec7e-d64b07e795ce"
   },
   "outputs": [
    {
     "data": {
      "text/plain": [
       "(10000, 5)"
      ]
     },
     "execution_count": 51,
     "metadata": {
      "tags": []
     },
     "output_type": "execute_result"
    }
   ],
   "source": [
    "test_labels.shape"
   ]
  },
  {
   "cell_type": "code",
   "execution_count": 52,
   "metadata": {
    "colab": {
     "base_uri": "https://localhost:8080/"
    },
    "id": "rorU_1rMZVMc",
    "outputId": "011cdd7f-6a5d-4d27-8b94-a309a3009e6a"
   },
   "outputs": [
    {
     "data": {
      "text/plain": [
       "(10000, 768)"
      ]
     },
     "execution_count": 52,
     "metadata": {
      "tags": []
     },
     "output_type": "execute_result"
    }
   ],
   "source": [
    "data_test.shape"
   ]
  },
  {
   "cell_type": "code",
   "execution_count": 53,
   "metadata": {
    "id": "bn_mSvzwZXEx"
   },
   "outputs": [],
   "source": [
    "preds = multiclassifier.predict (data_test)\n",
    "## we will say that the prediction is labeled one when its probability exceeds the threshold = 0.5\n",
    "THRESHOLD= 0.5 \n",
    "preds= (preds>THRESHOLD)"
   ]
  },
  {
   "cell_type": "code",
   "execution_count": 56,
   "metadata": {
    "colab": {
     "base_uri": "https://localhost:8080/"
    },
    "id": "BY7Sk58VZgfk",
    "outputId": "e03cddcb-3d39-4dff-91bd-2edba09655a0"
   },
   "outputs": [
    {
     "name": "stdout",
     "output_type": "stream",
     "text": [
      "313/313 [==============================] - 0s 1ms/step - loss: 0.1857 - categorical_accuracy: 0.9596 - auc_4: 0.9924 - precision_4: 0.9628 - recall_4: 0.9574\n",
      "precision is  0.9627916216850281\n",
      "recall is 0.9574000239372253\n",
      "accuracy is 0.9595999717712402\n",
      "loss is 0.18568158149719238\n",
      "area under ROC is 0.992375373840332\n",
      "f1_score is  0.9600882534296172\n",
      "f2_score is  0.9584735072302908\n",
      "f5_score is  0.9576062762450576\n"
     ]
    }
   ],
   "source": [
    "metrics = multiclassifier.evaluate (data_test,test_labels )\n",
    "print_metrics_multi(metrics)"
   ]
  }
 ],
 "metadata": {
  "colab": {
   "name": "evaluate_model_on_BTC.ipynb",
   "provenance": []
  },
  "kernelspec": {
   "display_name": "Python 3",
   "language": "python",
   "name": "python3"
  },
  "language_info": {
   "codemirror_mode": {
    "name": "ipython",
    "version": 3
   },
   "file_extension": ".py",
   "mimetype": "text/x-python",
   "name": "python",
   "nbconvert_exporter": "python",
   "pygments_lexer": "ipython3",
   "version": "3.8.8"
  }
 },
 "nbformat": 4,
 "nbformat_minor": 1
}
