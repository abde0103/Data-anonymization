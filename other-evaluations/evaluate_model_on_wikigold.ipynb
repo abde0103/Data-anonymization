{
 "cells": [
  {
   "cell_type": "code",
   "execution_count": null,
   "metadata": {
    "id": "FIEcBsjOKdsV"
   },
   "outputs": [],
   "source": [
    "from sklearn.preprocessing import StandardScaler\n",
    "from sklearn.model_selection import train_test_split\n",
    "import tensorflow as tf\n",
    "from tensorflow import keras \n",
    "from tensorflow.keras import layers\n",
    "from tensorflow.keras.utils import plot_model\n",
    "import matplotlib.pyplot as plt \n",
    "import numpy as np \n",
    "%matplotlib inline\n",
    "import os.path as pt\n",
    "import pandas as pd \n",
    "from tensorflow.python.keras.metrics import Metric\n",
    "import tensorflow.keras.backend as K\n",
    "from sklearn.metrics import fbeta_score\n",
    "from sklearn.metrics import make_scorer\n",
    "from sklearn.metrics import recall_score\n",
    "from sklearn.metrics import precision_score\n",
    "from sklearn.metrics import accuracy_score"
   ]
  },
  {
   "cell_type": "markdown",
   "metadata": {
    "id": "ca3ZVjrIKrBO"
   },
   "source": [
    "## Useful functions"
   ]
  },
  {
   "cell_type": "code",
   "execution_count": null,
   "metadata": {
    "id": "Dej0nS2MKsZq"
   },
   "outputs": [],
   "source": [
    "# will be used for biclassification\n",
    "def print_metrics (metrics,preds,test_labels):\n",
    "    precision = metrics [3]\n",
    "    recall = metrics[4]\n",
    "    accuracy=metrics[1]\n",
    "    area_under_ROC=metrics[2]\n",
    "    loss = metrics [0]\n",
    "    \n",
    "    # we will use F2 score which is more interseting because we want to give more importance to recall than precision\n",
    "    f_score= fbeta_score(test_labels,preds,beta=2)\n",
    "    f1_score=fbeta_score(test_labels,preds,beta=1)\n",
    "    f5_score=fbeta_score(test_labels,preds,beta=5)\n",
    "    \n",
    "    print ('precision is ',precision)\n",
    "    print ('recall is',recall)\n",
    "    print ('accuracy is',accuracy)\n",
    "    print ('loss is',loss)\n",
    "    print ('area under ROC is',area_under_ROC)\n",
    "    print ('f1_score is ', f1_score)\n",
    "    print ('f2_score is ', f_score)\n",
    "    print ('f5_score is ', f5_score)\n",
    "\n",
    "\n",
    "## will be used for multiclassification    \n",
    "def print_metrics_multi (metrics):\n",
    "    precision = metrics [3]\n",
    "    recall = metrics[4]\n",
    "    accuracy=metrics[1]\n",
    "    area_under_ROC=metrics[2]\n",
    "    loss = metrics [0]\n",
    "    \n",
    "    def f_beta_score (precision , recall , beta):\n",
    "        return (1+beta**2) * precision* recall /(recall+(beta**2)*precision)\n",
    "    f_score= f_beta_score(precision,recall,beta=2)\n",
    "    f1_score=f_beta_score(precision,recall,beta=1)\n",
    "    f5_score=f_beta_score(precision,recall,beta=5)\n",
    "    \n",
    "    \n",
    "    print ('precision is ',precision)\n",
    "    print ('recall is',recall)\n",
    "    print ('accuracy is',accuracy)\n",
    "    print ('loss is',loss)\n",
    "    print ('area under ROC is',area_under_ROC)\n",
    "    print ('f1_score is ', f1_score)\n",
    "    print ('f2_score is ', f_score)\n",
    "    print ('f5_score is ', f5_score)"
   ]
  },
  {
   "cell_type": "markdown",
   "metadata": {
    "id": "7naFMGokKyi8"
   },
   "source": [
    "## Biclassifcation evaluation"
   ]
  },
  {
   "cell_type": "code",
   "execution_count": null,
   "metadata": {
    "id": "mLwibZfnKzf4"
   },
   "outputs": [],
   "source": [
    "# load model\n",
    "biclassifier = keras.models.load_model(\"../models/biclassification.h5\")"
   ]
  },
  {
   "cell_type": "code",
   "execution_count": null,
   "metadata": {
    "id": "85-IZ6FRLEb6"
   },
   "outputs": [],
   "source": [
    "test_labels = pd . read_csv (\"../data/wikigold/bilass-eng.train.true_labels.csv\",header=None)\n",
    "data_test = pd .read_csv ( \"../data/wikigold/representation.train.csv\",header=None)\n",
    "scaler1 = StandardScaler()\n",
    "data_test=scaler1.fit_transform (data_test)"
   ]
  },
  {
   "cell_type": "code",
   "execution_count": null,
   "metadata": {
    "colab": {
     "base_uri": "https://localhost:8080/"
    },
    "id": "jzwsj5sCQS8v",
    "outputId": "0e5c7b2d-8bf2-41ff-bbd9-35253490a8f4"
   },
   "outputs": [
    {
     "data": {
      "text/plain": [
       "(5000, 768)"
      ]
     },
     "execution_count": 30,
     "metadata": {
      "tags": []
     },
     "output_type": "execute_result"
    }
   ],
   "source": [
    "data_test.shape"
   ]
  },
  {
   "cell_type": "code",
   "execution_count": null,
   "metadata": {
    "colab": {
     "base_uri": "https://localhost:8080/"
    },
    "id": "0EVN01OfQU0w",
    "outputId": "bac98885-e521-4109-f3a5-f3a436d7cb53"
   },
   "outputs": [
    {
     "data": {
      "text/plain": [
       "(5000, 1)"
      ]
     },
     "execution_count": 31,
     "metadata": {
      "tags": []
     },
     "output_type": "execute_result"
    }
   ],
   "source": [
    "test_labels.shape"
   ]
  },
  {
   "cell_type": "code",
   "execution_count": null,
   "metadata": {
    "id": "CPz0-P-4Mkk5"
   },
   "outputs": [],
   "source": [
    "preds = biclassifier.predict (data_test)\n",
    "## we will say that the prediction is labeled one when its probability exceeds the threshold = 0.5\n",
    "THRESHOLD= 0.5 \n",
    "preds= (preds>THRESHOLD)"
   ]
  },
  {
   "cell_type": "code",
   "execution_count": null,
   "metadata": {
    "colab": {
     "base_uri": "https://localhost:8080/"
    },
    "id": "e2qXcBD4MloP",
    "outputId": "02a51e8c-ac89-4f54-b1f1-0cff08776b1c"
   },
   "outputs": [
    {
     "name": "stdout",
     "output_type": "stream",
     "text": [
      "157/157 [==============================] - 1s 1ms/step - loss: 0.0649 - accuracy: 0.9868 - auc_2: 0.9796 - precision_1: 0.7854 - recall_1: 0.9372\n",
      "precision is  0.7854251265525818\n",
      "recall is 0.9371980428695679\n",
      "accuracy is 0.9868000149726868\n",
      "loss is 0.06491153687238693\n",
      "area under ROC is 0.9796316027641296\n",
      "f1_score is  0.854625550660793\n",
      "f2_score is  0.9023255813953489\n",
      "f5_score is  0.9302840280339358\n"
     ]
    }
   ],
   "source": [
    "metrics = biclassifier.evaluate (data_test,test_labels )\n",
    "print_metrics(metrics,preds,test_labels)"
   ]
  },
  {
   "cell_type": "code",
   "execution_count": null,
   "metadata": {
    "colab": {
     "base_uri": "https://localhost:8080/"
    },
    "id": "pfj16VOFM3x5",
    "outputId": "2fba4b0b-e320-48ea-bb6b-70cf3a72b9d0"
   },
   "outputs": [
    {
     "name": "stdout",
     "output_type": "stream",
     "text": [
      "the confusion matrix is \n",
      "  [[4740   53]\n",
      " [  13  194]]\n"
     ]
    }
   ],
   "source": [
    "from sklearn.metrics import confusion_matrix\n",
    "cm = confusion_matrix(test_labels,preds)\n",
    "print ('the confusion matrix is \\n ',cm)"
   ]
  },
  {
   "cell_type": "markdown",
   "metadata": {
    "id": "E7F_IUnYM5_7"
   },
   "source": [
    "## Multiclassification evaluation"
   ]
  },
  {
   "cell_type": "code",
   "execution_count": null,
   "metadata": {
    "id": "sMougo0FM9WQ"
   },
   "outputs": [],
   "source": [
    "multiclassifier = keras.models.load_model(\"../models/multiclass.h5\")"
   ]
  },
  {
   "cell_type": "code",
   "execution_count": null,
   "metadata": {
    "id": "FoESomduhx2j"
   },
   "outputs": [],
   "source": [
    "test_labels = pd . read_csv (\"../data/wikigold/multiclass-eng.train.true_labels.csv\",header=None)\n",
    "data_test = pd .read_csv ( \"../data/wikigold/representation.train.csv\",header=None)\n",
    "scaler1 = StandardScaler()\n",
    "data_test=scaler1.fit_transform (data_test)"
   ]
  },
  {
   "cell_type": "code",
   "execution_count": null,
   "metadata": {
    "colab": {
     "base_uri": "https://localhost:8080/"
    },
    "id": "E_TgIzC7iO_l",
    "outputId": "a7476893-d01e-4cbc-b4d0-1e0a65c32240"
   },
   "outputs": [
    {
     "data": {
      "text/plain": [
       "(5000, 5)"
      ]
     },
     "execution_count": 37,
     "metadata": {
      "tags": []
     },
     "output_type": "execute_result"
    }
   ],
   "source": [
    "test_labels.shape"
   ]
  },
  {
   "cell_type": "code",
   "execution_count": 38,
   "metadata": {
    "colab": {
     "base_uri": "https://localhost:8080/"
    },
    "id": "LKmBV0xTiRY2",
    "outputId": "4d3f7be4-dad3-4d5f-89b8-16381b50c9cf"
   },
   "outputs": [
    {
     "data": {
      "text/plain": [
       "(5000, 768)"
      ]
     },
     "execution_count": 38,
     "metadata": {
      "tags": []
     },
     "output_type": "execute_result"
    }
   ],
   "source": [
    "data_test.shape"
   ]
  },
  {
   "cell_type": "code",
   "execution_count": 39,
   "metadata": {
    "id": "wr37WU3_iZKr"
   },
   "outputs": [],
   "source": [
    "preds = multiclassifier.predict (data_test)\n",
    "## we will say that the prediction is labeled one when its probability exceeds the threshold = 0.5\n",
    "THRESHOLD= 0.5 \n",
    "preds= (preds>THRESHOLD)"
   ]
  },
  {
   "cell_type": "code",
   "execution_count": 40,
   "metadata": {
    "colab": {
     "base_uri": "https://localhost:8080/"
    },
    "id": "bYyG6BZ_ibIr",
    "outputId": "69950715-8712-4026-efeb-b02c137ce025"
   },
   "outputs": [
    {
     "name": "stdout",
     "output_type": "stream",
     "text": [
      "157/157 [==============================] - 1s 2ms/step - loss: 0.4373 - categorical_accuracy: 0.9144 - auc_4: 0.9774 - precision_4: 0.9192 - recall_4: 0.9120\n",
      "precision is  0.919169545173645\n",
      "recall is 0.9120000004768372\n",
      "accuracy is 0.9143999814987183\n",
      "loss is 0.43730849027633667\n",
      "area under ROC is 0.9773646593093872\n",
      "f1_score is  0.9155707374315001\n",
      "f2_score is  0.9134249478165171\n",
      "f5_score is  0.9122736834310038\n"
     ]
    }
   ],
   "source": [
    "metrics = multiclassifier.evaluate (data_test,test_labels )\n",
    "print_metrics_multi(metrics)"
   ]
  }
 ],
 "metadata": {
  "colab": {
   "collapsed_sections": [],
   "name": "evaluate_model_on_wikigold.ipynb",
   "provenance": [],
   "toc_visible": true
  },
  "kernelspec": {
   "display_name": "Python 3",
   "language": "python",
   "name": "python3"
  },
  "language_info": {
   "codemirror_mode": {
    "name": "ipython",
    "version": 3
   },
   "file_extension": ".py",
   "mimetype": "text/x-python",
   "name": "python",
   "nbconvert_exporter": "python",
   "pygments_lexer": "ipython3",
   "version": "3.8.8"
  }
 },
 "nbformat": 4,
 "nbformat_minor": 1
}
